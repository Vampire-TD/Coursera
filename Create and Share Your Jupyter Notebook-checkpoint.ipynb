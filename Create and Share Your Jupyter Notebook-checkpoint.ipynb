{
 "cells": [
  {
   "cell_type": "markdown",
   "id": "8e632e54",
   "metadata": {},
   "source": [
    "# Data Science Tools and Ecosystem "
   ]
  },
  {
   "cell_type": "markdown",
   "id": "9c52f3ab",
   "metadata": {},
   "source": [
    "In this notebook, Data Science Tools and Ecosystem are summarized. "
   ]
  },
  {
   "cell_type": "markdown",
   "id": "c04f6a7f",
   "metadata": {},
   "source": [
    "Some of the popular languages that Data Scientists use are:\n",
    "1) Python\n",
    "2) R\n",
    "3) SQL\n",
    "4) Scala\n",
    "5) Julia\n"
   ]
  },
  {
   "cell_type": "markdown",
   "id": "f8cf4749",
   "metadata": {},
   "source": [
    "Some of the commonly used libraries used by Data Scientists include: \n",
    "1) Numpy\n",
    "2) Pandas\n",
    "3) Scikit-learn\n",
    "4) TensorFlow\n"
   ]
  },
  {
   "cell_type": "markdown",
   "id": "7eb3c9ec",
   "metadata": {},
   "source": [
    "|Data Science Tools |\n",
    "|:------------------|\n",
    "|Jupyter  Notebook  |\n",
    "|Apache Spark   |\n",
    "|MLflow\n"
   ]
  },
  {
   "cell_type": "markdown",
   "id": "421c221d",
   "metadata": {},
   "source": [
    "### Below are a few examples of evaluating arithmetic expressions in Python."
   ]
  },
  {
   "cell_type": "code",
   "execution_count": 1,
   "id": "82fe1690",
   "metadata": {},
   "outputs": [
    {
     "data": {
      "text/plain": [
       "17"
      ]
     },
     "execution_count": 1,
     "metadata": {},
     "output_type": "execute_result"
    }
   ],
   "source": [
    "# This a simple arithmetic expression to mutiply then add integers\n",
    "(3*4)+5"
   ]
  },
  {
   "cell_type": "code",
   "execution_count": 3,
   "id": "c2aaf3c4",
   "metadata": {},
   "outputs": [
    {
     "name": "stdout",
     "output_type": "stream",
     "text": [
      "200 minutes equals 3.3333333333333335 hours\n"
     ]
    }
   ],
   "source": [
    "# This will convert 200 minutes to hours by diving by 60\n",
    "hours = 200/60\n",
    "print(f\"200 minutes equals {hours} hours\")"
   ]
  },
  {
   "cell_type": "markdown",
   "id": "1bd841cc",
   "metadata": {},
   "source": [
    "Objectives:\n",
    "- learn Python\n",
    "- learn data science analysis tools"
   ]
  },
  {
   "cell_type": "markdown",
   "id": "bbdf01b1",
   "metadata": {},
   "source": [
    "## Author\n",
    "Tracy"
   ]
  }
 ],
 "metadata": {
  "kernelspec": {
   "display_name": "Python 3 (ipykernel)",
   "language": "python",
   "name": "python3"
  },
  "language_info": {
   "codemirror_mode": {
    "name": "ipython",
    "version": 3
   },
   "file_extension": ".py",
   "mimetype": "text/x-python",
   "name": "python",
   "nbconvert_exporter": "python",
   "pygments_lexer": "ipython3",
   "version": "3.9.19"
  }
 },
 "nbformat": 4,
 "nbformat_minor": 5
}
